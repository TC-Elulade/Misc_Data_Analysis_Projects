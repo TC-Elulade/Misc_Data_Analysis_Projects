{
 "cells": [
  {
   "cell_type": "markdown",
   "id": "6e852c6a",
   "metadata": {},
   "source": [
    "# Assignment 2 Notebook #"
   ]
  },
  {
   "cell_type": "markdown",
   "id": "5c0b7096",
   "metadata": {},
   "source": [
    "This notebook focuses on looking at the relationship between global video game sales (number of copies sold, in millions) and other variables.\n",
    "\n",
    "Dataset source: https://data.world/sumitrock/video-games-sales"
   ]
  },
  {
   "cell_type": "code",
   "execution_count": 28,
   "id": "77057d97",
   "metadata": {},
   "outputs": [],
   "source": [
    "## IMPORT CELL ##\n",
    "import pandas as pd\n",
    "import numpy as np\n",
    "import matplotlib.pyplot as plt\n",
    "from sklearn import preprocessing\n",
    "from sklearn import linear_model \n",
    "from sklearn.metrics import mean_squared_error, r2_score\n",
    "car_df = pd.read_csv(\"data/cars.csv\")\n",
    "from scipy import stats\n",
    "from collections import Counter"
   ]
  },
  {
   "cell_type": "code",
   "execution_count": 2,
   "id": "c5734bbb",
   "metadata": {},
   "outputs": [],
   "source": [
    "#Show max 100 columns or rows\n",
    "pd.set_option('display.max_rows', 100)\n",
    "pd.set_option('display.max_columns', 100)\n",
    "#Dont use scientific notation for numbers (e.g 1.003767687e-12)\n",
    "pd.set_option('display.float_format','{:.5f}'.format)\n",
    "np.set_printoptions(suppress=True)"
   ]
  },
  {
   "cell_type": "markdown",
   "id": "0b1e3781",
   "metadata": {},
   "source": [
    "## QUESTION 1 ##"
   ]
  },
  {
   "cell_type": "markdown",
   "id": "6e4d9df5",
   "metadata": {},
   "source": [
    "### Cleaning up the dataset ###"
   ]
  },
  {
   "cell_type": "markdown",
   "id": "b3bacbaa",
   "metadata": {},
   "source": [
    "Firstly, we should load the dataset into the notebook."
   ]
  },
  {
   "cell_type": "code",
   "execution_count": 3,
   "id": "02b815ca",
   "metadata": {},
   "outputs": [],
   "source": [
    "#Load in the CSV\n",
    "df = pd.read_csv(\"data/Video_Games.csv\")"
   ]
  },
  {
   "cell_type": "code",
   "execution_count": 4,
   "id": "b0a564c8",
   "metadata": {},
   "outputs": [
    {
     "data": {
      "text/plain": [
       "Index(['Name', 'Platform', 'Year_of_Release', 'Genre', 'Publisher', 'NA_Sales',\n",
       "       'EU_Sales', 'JP_Sales', 'Other_Sales', 'Global_Sales', 'Critic_Score',\n",
       "       'Critic_Count', 'User_Score', 'User_Count', 'Developer', 'Rating'],\n",
       "      dtype='object')"
      ]
     },
     "execution_count": 4,
     "metadata": {},
     "output_type": "execute_result"
    }
   ],
   "source": [
    "#Look at the columns\n",
    "df.columns"
   ]
  },
  {
   "cell_type": "markdown",
   "id": "db510b55",
   "metadata": {},
   "source": [
    "There are a few rows in our dataset that have empty values, most importantly being the critic and user scores as well as the user counts. If the dataset is left the way it is, any analysis would have distorted results. As such, the dataset will need to be cleaned up."
   ]
  },
  {
   "cell_type": "code",
   "execution_count": 5,
   "id": "840ac75d",
   "metadata": {
    "scrolled": true
   },
   "outputs": [
    {
     "data": {
      "text/html": [
       "<div>\n",
       "<style scoped>\n",
       "    .dataframe tbody tr th:only-of-type {\n",
       "        vertical-align: middle;\n",
       "    }\n",
       "\n",
       "    .dataframe tbody tr th {\n",
       "        vertical-align: top;\n",
       "    }\n",
       "\n",
       "    .dataframe thead th {\n",
       "        text-align: right;\n",
       "    }\n",
       "</style>\n",
       "<table border=\"1\" class=\"dataframe\">\n",
       "  <thead>\n",
       "    <tr style=\"text-align: right;\">\n",
       "      <th></th>\n",
       "      <th>Name</th>\n",
       "      <th>Platform</th>\n",
       "      <th>Year_of_Release</th>\n",
       "      <th>Genre</th>\n",
       "      <th>Publisher</th>\n",
       "      <th>NA_Sales</th>\n",
       "      <th>EU_Sales</th>\n",
       "      <th>JP_Sales</th>\n",
       "      <th>Other_Sales</th>\n",
       "      <th>Global_Sales</th>\n",
       "      <th>Critic_Score</th>\n",
       "      <th>Critic_Count</th>\n",
       "      <th>User_Score</th>\n",
       "      <th>User_Count</th>\n",
       "      <th>Developer</th>\n",
       "      <th>Rating</th>\n",
       "    </tr>\n",
       "  </thead>\n",
       "  <tbody>\n",
       "    <tr>\n",
       "      <th>0</th>\n",
       "      <td>Wii Sports</td>\n",
       "      <td>Wii</td>\n",
       "      <td>2006.00000</td>\n",
       "      <td>Sports</td>\n",
       "      <td>Nintendo</td>\n",
       "      <td>41.36000</td>\n",
       "      <td>28.96000</td>\n",
       "      <td>3.77000</td>\n",
       "      <td>8.45000</td>\n",
       "      <td>82.53000</td>\n",
       "      <td>76.00000</td>\n",
       "      <td>51.00000</td>\n",
       "      <td>8</td>\n",
       "      <td>322.00000</td>\n",
       "      <td>Nintendo</td>\n",
       "      <td>E</td>\n",
       "    </tr>\n",
       "    <tr>\n",
       "      <th>2</th>\n",
       "      <td>Mario Kart Wii</td>\n",
       "      <td>Wii</td>\n",
       "      <td>2008.00000</td>\n",
       "      <td>Racing</td>\n",
       "      <td>Nintendo</td>\n",
       "      <td>15.68000</td>\n",
       "      <td>12.76000</td>\n",
       "      <td>3.79000</td>\n",
       "      <td>3.29000</td>\n",
       "      <td>35.52000</td>\n",
       "      <td>82.00000</td>\n",
       "      <td>73.00000</td>\n",
       "      <td>8.3</td>\n",
       "      <td>709.00000</td>\n",
       "      <td>Nintendo</td>\n",
       "      <td>E</td>\n",
       "    </tr>\n",
       "    <tr>\n",
       "      <th>3</th>\n",
       "      <td>Wii Sports Resort</td>\n",
       "      <td>Wii</td>\n",
       "      <td>2009.00000</td>\n",
       "      <td>Sports</td>\n",
       "      <td>Nintendo</td>\n",
       "      <td>15.61000</td>\n",
       "      <td>10.93000</td>\n",
       "      <td>3.28000</td>\n",
       "      <td>2.95000</td>\n",
       "      <td>32.77000</td>\n",
       "      <td>80.00000</td>\n",
       "      <td>73.00000</td>\n",
       "      <td>8</td>\n",
       "      <td>192.00000</td>\n",
       "      <td>Nintendo</td>\n",
       "      <td>E</td>\n",
       "    </tr>\n",
       "    <tr>\n",
       "      <th>6</th>\n",
       "      <td>New Super Mario Bros.</td>\n",
       "      <td>DS</td>\n",
       "      <td>2006.00000</td>\n",
       "      <td>Platform</td>\n",
       "      <td>Nintendo</td>\n",
       "      <td>11.28000</td>\n",
       "      <td>9.14000</td>\n",
       "      <td>6.50000</td>\n",
       "      <td>2.88000</td>\n",
       "      <td>29.80000</td>\n",
       "      <td>89.00000</td>\n",
       "      <td>65.00000</td>\n",
       "      <td>8.5</td>\n",
       "      <td>431.00000</td>\n",
       "      <td>Nintendo</td>\n",
       "      <td>E</td>\n",
       "    </tr>\n",
       "    <tr>\n",
       "      <th>7</th>\n",
       "      <td>Wii Play</td>\n",
       "      <td>Wii</td>\n",
       "      <td>2006.00000</td>\n",
       "      <td>Misc</td>\n",
       "      <td>Nintendo</td>\n",
       "      <td>13.96000</td>\n",
       "      <td>9.18000</td>\n",
       "      <td>2.93000</td>\n",
       "      <td>2.84000</td>\n",
       "      <td>28.92000</td>\n",
       "      <td>58.00000</td>\n",
       "      <td>41.00000</td>\n",
       "      <td>6.6</td>\n",
       "      <td>129.00000</td>\n",
       "      <td>Nintendo</td>\n",
       "      <td>E</td>\n",
       "    </tr>\n",
       "    <tr>\n",
       "      <th>...</th>\n",
       "      <td>...</td>\n",
       "      <td>...</td>\n",
       "      <td>...</td>\n",
       "      <td>...</td>\n",
       "      <td>...</td>\n",
       "      <td>...</td>\n",
       "      <td>...</td>\n",
       "      <td>...</td>\n",
       "      <td>...</td>\n",
       "      <td>...</td>\n",
       "      <td>...</td>\n",
       "      <td>...</td>\n",
       "      <td>...</td>\n",
       "      <td>...</td>\n",
       "      <td>...</td>\n",
       "      <td>...</td>\n",
       "    </tr>\n",
       "    <tr>\n",
       "      <th>16667</th>\n",
       "      <td>E.T. The Extra-Terrestrial</td>\n",
       "      <td>GBA</td>\n",
       "      <td>2001.00000</td>\n",
       "      <td>Action</td>\n",
       "      <td>NewKidCo</td>\n",
       "      <td>0.01000</td>\n",
       "      <td>0.00000</td>\n",
       "      <td>0.00000</td>\n",
       "      <td>0.00000</td>\n",
       "      <td>0.01000</td>\n",
       "      <td>46.00000</td>\n",
       "      <td>4.00000</td>\n",
       "      <td>2.4</td>\n",
       "      <td>21.00000</td>\n",
       "      <td>Fluid Studios</td>\n",
       "      <td>E</td>\n",
       "    </tr>\n",
       "    <tr>\n",
       "      <th>16677</th>\n",
       "      <td>Mortal Kombat: Deadly Alliance</td>\n",
       "      <td>GBA</td>\n",
       "      <td>2002.00000</td>\n",
       "      <td>Fighting</td>\n",
       "      <td>Midway Games</td>\n",
       "      <td>0.01000</td>\n",
       "      <td>0.00000</td>\n",
       "      <td>0.00000</td>\n",
       "      <td>0.00000</td>\n",
       "      <td>0.01000</td>\n",
       "      <td>81.00000</td>\n",
       "      <td>12.00000</td>\n",
       "      <td>8.8</td>\n",
       "      <td>9.00000</td>\n",
       "      <td>Criterion Games</td>\n",
       "      <td>M</td>\n",
       "    </tr>\n",
       "    <tr>\n",
       "      <th>16696</th>\n",
       "      <td>Metal Gear Solid V: Ground Zeroes</td>\n",
       "      <td>PC</td>\n",
       "      <td>2014.00000</td>\n",
       "      <td>Action</td>\n",
       "      <td>Konami Digital Entertainment</td>\n",
       "      <td>0.00000</td>\n",
       "      <td>0.01000</td>\n",
       "      <td>0.00000</td>\n",
       "      <td>0.00000</td>\n",
       "      <td>0.01000</td>\n",
       "      <td>80.00000</td>\n",
       "      <td>20.00000</td>\n",
       "      <td>7.6</td>\n",
       "      <td>412.00000</td>\n",
       "      <td>Kojima Productions</td>\n",
       "      <td>M</td>\n",
       "    </tr>\n",
       "    <tr>\n",
       "      <th>16700</th>\n",
       "      <td>Breach</td>\n",
       "      <td>PC</td>\n",
       "      <td>2011.00000</td>\n",
       "      <td>Shooter</td>\n",
       "      <td>Destineer</td>\n",
       "      <td>0.01000</td>\n",
       "      <td>0.00000</td>\n",
       "      <td>0.00000</td>\n",
       "      <td>0.00000</td>\n",
       "      <td>0.01000</td>\n",
       "      <td>61.00000</td>\n",
       "      <td>12.00000</td>\n",
       "      <td>5.8</td>\n",
       "      <td>43.00000</td>\n",
       "      <td>Atomic Games</td>\n",
       "      <td>T</td>\n",
       "    </tr>\n",
       "    <tr>\n",
       "      <th>16706</th>\n",
       "      <td>STORM: Frontline Nation</td>\n",
       "      <td>PC</td>\n",
       "      <td>2011.00000</td>\n",
       "      <td>Strategy</td>\n",
       "      <td>Unknown</td>\n",
       "      <td>0.00000</td>\n",
       "      <td>0.01000</td>\n",
       "      <td>0.00000</td>\n",
       "      <td>0.00000</td>\n",
       "      <td>0.01000</td>\n",
       "      <td>60.00000</td>\n",
       "      <td>12.00000</td>\n",
       "      <td>7.2</td>\n",
       "      <td>13.00000</td>\n",
       "      <td>SimBin</td>\n",
       "      <td>E10+</td>\n",
       "    </tr>\n",
       "  </tbody>\n",
       "</table>\n",
       "<p>6825 rows × 16 columns</p>\n",
       "</div>"
      ],
      "text/plain": [
       "                                    Name Platform  Year_of_Release     Genre  \\\n",
       "0                             Wii Sports      Wii       2006.00000    Sports   \n",
       "2                         Mario Kart Wii      Wii       2008.00000    Racing   \n",
       "3                      Wii Sports Resort      Wii       2009.00000    Sports   \n",
       "6                  New Super Mario Bros.       DS       2006.00000  Platform   \n",
       "7                               Wii Play      Wii       2006.00000      Misc   \n",
       "...                                  ...      ...              ...       ...   \n",
       "16667         E.T. The Extra-Terrestrial      GBA       2001.00000    Action   \n",
       "16677     Mortal Kombat: Deadly Alliance      GBA       2002.00000  Fighting   \n",
       "16696  Metal Gear Solid V: Ground Zeroes       PC       2014.00000    Action   \n",
       "16700                             Breach       PC       2011.00000   Shooter   \n",
       "16706            STORM: Frontline Nation       PC       2011.00000  Strategy   \n",
       "\n",
       "                          Publisher  NA_Sales  EU_Sales  JP_Sales  \\\n",
       "0                          Nintendo  41.36000  28.96000   3.77000   \n",
       "2                          Nintendo  15.68000  12.76000   3.79000   \n",
       "3                          Nintendo  15.61000  10.93000   3.28000   \n",
       "6                          Nintendo  11.28000   9.14000   6.50000   \n",
       "7                          Nintendo  13.96000   9.18000   2.93000   \n",
       "...                             ...       ...       ...       ...   \n",
       "16667                      NewKidCo   0.01000   0.00000   0.00000   \n",
       "16677                  Midway Games   0.01000   0.00000   0.00000   \n",
       "16696  Konami Digital Entertainment   0.00000   0.01000   0.00000   \n",
       "16700                     Destineer   0.01000   0.00000   0.00000   \n",
       "16706                       Unknown   0.00000   0.01000   0.00000   \n",
       "\n",
       "       Other_Sales  Global_Sales  Critic_Score  Critic_Count User_Score  \\\n",
       "0          8.45000      82.53000      76.00000      51.00000          8   \n",
       "2          3.29000      35.52000      82.00000      73.00000        8.3   \n",
       "3          2.95000      32.77000      80.00000      73.00000          8   \n",
       "6          2.88000      29.80000      89.00000      65.00000        8.5   \n",
       "7          2.84000      28.92000      58.00000      41.00000        6.6   \n",
       "...            ...           ...           ...           ...        ...   \n",
       "16667      0.00000       0.01000      46.00000       4.00000        2.4   \n",
       "16677      0.00000       0.01000      81.00000      12.00000        8.8   \n",
       "16696      0.00000       0.01000      80.00000      20.00000        7.6   \n",
       "16700      0.00000       0.01000      61.00000      12.00000        5.8   \n",
       "16706      0.00000       0.01000      60.00000      12.00000        7.2   \n",
       "\n",
       "       User_Count           Developer Rating  \n",
       "0       322.00000            Nintendo      E  \n",
       "2       709.00000            Nintendo      E  \n",
       "3       192.00000            Nintendo      E  \n",
       "6       431.00000            Nintendo      E  \n",
       "7       129.00000            Nintendo      E  \n",
       "...           ...                 ...    ...  \n",
       "16667    21.00000       Fluid Studios      E  \n",
       "16677     9.00000     Criterion Games      M  \n",
       "16696   412.00000  Kojima Productions      M  \n",
       "16700    43.00000        Atomic Games      T  \n",
       "16706    13.00000              SimBin   E10+  \n",
       "\n",
       "[6825 rows x 16 columns]"
      ]
     },
     "execution_count": 5,
     "metadata": {},
     "output_type": "execute_result"
    }
   ],
   "source": [
    "#Use dropna() to remove all rows with empty values in \n",
    "df = df.dropna()\n",
    "df"
   ]
  },
  {
   "cell_type": "code",
   "execution_count": 6,
   "id": "a441230a",
   "metadata": {},
   "outputs": [
    {
     "data": {
      "text/plain": [
       "Name                object\n",
       "Platform            object\n",
       "Year_of_Release    float64\n",
       "Genre               object\n",
       "Publisher           object\n",
       "NA_Sales           float64\n",
       "EU_Sales           float64\n",
       "JP_Sales           float64\n",
       "Other_Sales        float64\n",
       "Global_Sales       float64\n",
       "Critic_Score       float64\n",
       "Critic_Count       float64\n",
       "User_Score          object\n",
       "User_Count         float64\n",
       "Developer           object\n",
       "Rating              object\n",
       "dtype: object"
      ]
     },
     "execution_count": 6,
     "metadata": {},
     "output_type": "execute_result"
    }
   ],
   "source": [
    "df.dtypes"
   ]
  },
  {
   "cell_type": "markdown",
   "id": "32352ac2",
   "metadata": {},
   "source": [
    "Having checked the data types of each column using dtype, most of the essential columns are already in the suitable format (i.e they are already numeric data). Therefore they do not need to be editted further; only the user scores will need to be converted to numeric format. However, for the sake of clarity, the Year of Release column should ideally have the year as an integar and not a float."
   ]
  },
  {
   "cell_type": "code",
   "execution_count": 7,
   "id": "bb83d4aa",
   "metadata": {
    "scrolled": false
   },
   "outputs": [
    {
     "data": {
      "text/plain": [
       "Name                object\n",
       "Platform            object\n",
       "Year_of_Release      int32\n",
       "Genre               object\n",
       "Publisher           object\n",
       "NA_Sales           float64\n",
       "EU_Sales           float64\n",
       "JP_Sales           float64\n",
       "Other_Sales        float64\n",
       "Global_Sales       float64\n",
       "Critic_Score       float64\n",
       "Critic_Count       float64\n",
       "User_Score         float64\n",
       "User_Count         float64\n",
       "Developer           object\n",
       "Rating              object\n",
       "dtype: object"
      ]
     },
     "execution_count": 7,
     "metadata": {},
     "output_type": "execute_result"
    }
   ],
   "source": [
    "df['Year_of_Release'] = df['Year_of_Release'].astype(int)\n",
    "df['User_Score'] = pd.to_numeric(df['User_Score'])\n",
    "df.dtypes"
   ]
  },
  {
   "cell_type": "code",
   "execution_count": 8,
   "id": "4980998a",
   "metadata": {
    "scrolled": true
   },
   "outputs": [
    {
     "data": {
      "text/html": [
       "<div>\n",
       "<style scoped>\n",
       "    .dataframe tbody tr th:only-of-type {\n",
       "        vertical-align: middle;\n",
       "    }\n",
       "\n",
       "    .dataframe tbody tr th {\n",
       "        vertical-align: top;\n",
       "    }\n",
       "\n",
       "    .dataframe thead th {\n",
       "        text-align: right;\n",
       "    }\n",
       "</style>\n",
       "<table border=\"1\" class=\"dataframe\">\n",
       "  <thead>\n",
       "    <tr style=\"text-align: right;\">\n",
       "      <th></th>\n",
       "      <th>Name</th>\n",
       "      <th>Platform</th>\n",
       "      <th>Year_of_Release</th>\n",
       "      <th>Genre</th>\n",
       "      <th>Publisher</th>\n",
       "      <th>NA_Sales</th>\n",
       "      <th>EU_Sales</th>\n",
       "      <th>JP_Sales</th>\n",
       "      <th>Other_Sales</th>\n",
       "      <th>Global_Sales</th>\n",
       "      <th>Critic_Score</th>\n",
       "      <th>Critic_Count</th>\n",
       "      <th>User_Score</th>\n",
       "      <th>User_Count</th>\n",
       "      <th>Developer</th>\n",
       "      <th>Rating</th>\n",
       "    </tr>\n",
       "  </thead>\n",
       "  <tbody>\n",
       "    <tr>\n",
       "      <th>0</th>\n",
       "      <td>Wii Sports</td>\n",
       "      <td>Wii</td>\n",
       "      <td>2006</td>\n",
       "      <td>Sports</td>\n",
       "      <td>Nintendo</td>\n",
       "      <td>41.36000</td>\n",
       "      <td>28.96000</td>\n",
       "      <td>3.77000</td>\n",
       "      <td>8.45000</td>\n",
       "      <td>82.53000</td>\n",
       "      <td>76.00000</td>\n",
       "      <td>51.00000</td>\n",
       "      <td>8.00000</td>\n",
       "      <td>322.00000</td>\n",
       "      <td>Nintendo</td>\n",
       "      <td>E</td>\n",
       "    </tr>\n",
       "    <tr>\n",
       "      <th>2</th>\n",
       "      <td>Mario Kart Wii</td>\n",
       "      <td>Wii</td>\n",
       "      <td>2008</td>\n",
       "      <td>Racing</td>\n",
       "      <td>Nintendo</td>\n",
       "      <td>15.68000</td>\n",
       "      <td>12.76000</td>\n",
       "      <td>3.79000</td>\n",
       "      <td>3.29000</td>\n",
       "      <td>35.52000</td>\n",
       "      <td>82.00000</td>\n",
       "      <td>73.00000</td>\n",
       "      <td>8.30000</td>\n",
       "      <td>709.00000</td>\n",
       "      <td>Nintendo</td>\n",
       "      <td>E</td>\n",
       "    </tr>\n",
       "    <tr>\n",
       "      <th>3</th>\n",
       "      <td>Wii Sports Resort</td>\n",
       "      <td>Wii</td>\n",
       "      <td>2009</td>\n",
       "      <td>Sports</td>\n",
       "      <td>Nintendo</td>\n",
       "      <td>15.61000</td>\n",
       "      <td>10.93000</td>\n",
       "      <td>3.28000</td>\n",
       "      <td>2.95000</td>\n",
       "      <td>32.77000</td>\n",
       "      <td>80.00000</td>\n",
       "      <td>73.00000</td>\n",
       "      <td>8.00000</td>\n",
       "      <td>192.00000</td>\n",
       "      <td>Nintendo</td>\n",
       "      <td>E</td>\n",
       "    </tr>\n",
       "    <tr>\n",
       "      <th>6</th>\n",
       "      <td>New Super Mario Bros.</td>\n",
       "      <td>DS</td>\n",
       "      <td>2006</td>\n",
       "      <td>Platform</td>\n",
       "      <td>Nintendo</td>\n",
       "      <td>11.28000</td>\n",
       "      <td>9.14000</td>\n",
       "      <td>6.50000</td>\n",
       "      <td>2.88000</td>\n",
       "      <td>29.80000</td>\n",
       "      <td>89.00000</td>\n",
       "      <td>65.00000</td>\n",
       "      <td>8.50000</td>\n",
       "      <td>431.00000</td>\n",
       "      <td>Nintendo</td>\n",
       "      <td>E</td>\n",
       "    </tr>\n",
       "    <tr>\n",
       "      <th>7</th>\n",
       "      <td>Wii Play</td>\n",
       "      <td>Wii</td>\n",
       "      <td>2006</td>\n",
       "      <td>Misc</td>\n",
       "      <td>Nintendo</td>\n",
       "      <td>13.96000</td>\n",
       "      <td>9.18000</td>\n",
       "      <td>2.93000</td>\n",
       "      <td>2.84000</td>\n",
       "      <td>28.92000</td>\n",
       "      <td>58.00000</td>\n",
       "      <td>41.00000</td>\n",
       "      <td>6.60000</td>\n",
       "      <td>129.00000</td>\n",
       "      <td>Nintendo</td>\n",
       "      <td>E</td>\n",
       "    </tr>\n",
       "    <tr>\n",
       "      <th>...</th>\n",
       "      <td>...</td>\n",
       "      <td>...</td>\n",
       "      <td>...</td>\n",
       "      <td>...</td>\n",
       "      <td>...</td>\n",
       "      <td>...</td>\n",
       "      <td>...</td>\n",
       "      <td>...</td>\n",
       "      <td>...</td>\n",
       "      <td>...</td>\n",
       "      <td>...</td>\n",
       "      <td>...</td>\n",
       "      <td>...</td>\n",
       "      <td>...</td>\n",
       "      <td>...</td>\n",
       "      <td>...</td>\n",
       "    </tr>\n",
       "    <tr>\n",
       "      <th>16667</th>\n",
       "      <td>E.T. The Extra-Terrestrial</td>\n",
       "      <td>GBA</td>\n",
       "      <td>2001</td>\n",
       "      <td>Action</td>\n",
       "      <td>NewKidCo</td>\n",
       "      <td>0.01000</td>\n",
       "      <td>0.00000</td>\n",
       "      <td>0.00000</td>\n",
       "      <td>0.00000</td>\n",
       "      <td>0.01000</td>\n",
       "      <td>46.00000</td>\n",
       "      <td>4.00000</td>\n",
       "      <td>2.40000</td>\n",
       "      <td>21.00000</td>\n",
       "      <td>Fluid Studios</td>\n",
       "      <td>E</td>\n",
       "    </tr>\n",
       "    <tr>\n",
       "      <th>16677</th>\n",
       "      <td>Mortal Kombat: Deadly Alliance</td>\n",
       "      <td>GBA</td>\n",
       "      <td>2002</td>\n",
       "      <td>Fighting</td>\n",
       "      <td>Midway Games</td>\n",
       "      <td>0.01000</td>\n",
       "      <td>0.00000</td>\n",
       "      <td>0.00000</td>\n",
       "      <td>0.00000</td>\n",
       "      <td>0.01000</td>\n",
       "      <td>81.00000</td>\n",
       "      <td>12.00000</td>\n",
       "      <td>8.80000</td>\n",
       "      <td>9.00000</td>\n",
       "      <td>Criterion Games</td>\n",
       "      <td>M</td>\n",
       "    </tr>\n",
       "    <tr>\n",
       "      <th>16696</th>\n",
       "      <td>Metal Gear Solid V: Ground Zeroes</td>\n",
       "      <td>PC</td>\n",
       "      <td>2014</td>\n",
       "      <td>Action</td>\n",
       "      <td>Konami Digital Entertainment</td>\n",
       "      <td>0.00000</td>\n",
       "      <td>0.01000</td>\n",
       "      <td>0.00000</td>\n",
       "      <td>0.00000</td>\n",
       "      <td>0.01000</td>\n",
       "      <td>80.00000</td>\n",
       "      <td>20.00000</td>\n",
       "      <td>7.60000</td>\n",
       "      <td>412.00000</td>\n",
       "      <td>Kojima Productions</td>\n",
       "      <td>M</td>\n",
       "    </tr>\n",
       "    <tr>\n",
       "      <th>16700</th>\n",
       "      <td>Breach</td>\n",
       "      <td>PC</td>\n",
       "      <td>2011</td>\n",
       "      <td>Shooter</td>\n",
       "      <td>Destineer</td>\n",
       "      <td>0.01000</td>\n",
       "      <td>0.00000</td>\n",
       "      <td>0.00000</td>\n",
       "      <td>0.00000</td>\n",
       "      <td>0.01000</td>\n",
       "      <td>61.00000</td>\n",
       "      <td>12.00000</td>\n",
       "      <td>5.80000</td>\n",
       "      <td>43.00000</td>\n",
       "      <td>Atomic Games</td>\n",
       "      <td>T</td>\n",
       "    </tr>\n",
       "    <tr>\n",
       "      <th>16706</th>\n",
       "      <td>STORM: Frontline Nation</td>\n",
       "      <td>PC</td>\n",
       "      <td>2011</td>\n",
       "      <td>Strategy</td>\n",
       "      <td>Unknown</td>\n",
       "      <td>0.00000</td>\n",
       "      <td>0.01000</td>\n",
       "      <td>0.00000</td>\n",
       "      <td>0.00000</td>\n",
       "      <td>0.01000</td>\n",
       "      <td>60.00000</td>\n",
       "      <td>12.00000</td>\n",
       "      <td>7.20000</td>\n",
       "      <td>13.00000</td>\n",
       "      <td>SimBin</td>\n",
       "      <td>E10+</td>\n",
       "    </tr>\n",
       "  </tbody>\n",
       "</table>\n",
       "<p>6825 rows × 16 columns</p>\n",
       "</div>"
      ],
      "text/plain": [
       "                                    Name Platform  Year_of_Release     Genre  \\\n",
       "0                             Wii Sports      Wii             2006    Sports   \n",
       "2                         Mario Kart Wii      Wii             2008    Racing   \n",
       "3                      Wii Sports Resort      Wii             2009    Sports   \n",
       "6                  New Super Mario Bros.       DS             2006  Platform   \n",
       "7                               Wii Play      Wii             2006      Misc   \n",
       "...                                  ...      ...              ...       ...   \n",
       "16667         E.T. The Extra-Terrestrial      GBA             2001    Action   \n",
       "16677     Mortal Kombat: Deadly Alliance      GBA             2002  Fighting   \n",
       "16696  Metal Gear Solid V: Ground Zeroes       PC             2014    Action   \n",
       "16700                             Breach       PC             2011   Shooter   \n",
       "16706            STORM: Frontline Nation       PC             2011  Strategy   \n",
       "\n",
       "                          Publisher  NA_Sales  EU_Sales  JP_Sales  \\\n",
       "0                          Nintendo  41.36000  28.96000   3.77000   \n",
       "2                          Nintendo  15.68000  12.76000   3.79000   \n",
       "3                          Nintendo  15.61000  10.93000   3.28000   \n",
       "6                          Nintendo  11.28000   9.14000   6.50000   \n",
       "7                          Nintendo  13.96000   9.18000   2.93000   \n",
       "...                             ...       ...       ...       ...   \n",
       "16667                      NewKidCo   0.01000   0.00000   0.00000   \n",
       "16677                  Midway Games   0.01000   0.00000   0.00000   \n",
       "16696  Konami Digital Entertainment   0.00000   0.01000   0.00000   \n",
       "16700                     Destineer   0.01000   0.00000   0.00000   \n",
       "16706                       Unknown   0.00000   0.01000   0.00000   \n",
       "\n",
       "       Other_Sales  Global_Sales  Critic_Score  Critic_Count  User_Score  \\\n",
       "0          8.45000      82.53000      76.00000      51.00000     8.00000   \n",
       "2          3.29000      35.52000      82.00000      73.00000     8.30000   \n",
       "3          2.95000      32.77000      80.00000      73.00000     8.00000   \n",
       "6          2.88000      29.80000      89.00000      65.00000     8.50000   \n",
       "7          2.84000      28.92000      58.00000      41.00000     6.60000   \n",
       "...            ...           ...           ...           ...         ...   \n",
       "16667      0.00000       0.01000      46.00000       4.00000     2.40000   \n",
       "16677      0.00000       0.01000      81.00000      12.00000     8.80000   \n",
       "16696      0.00000       0.01000      80.00000      20.00000     7.60000   \n",
       "16700      0.00000       0.01000      61.00000      12.00000     5.80000   \n",
       "16706      0.00000       0.01000      60.00000      12.00000     7.20000   \n",
       "\n",
       "       User_Count           Developer Rating  \n",
       "0       322.00000            Nintendo      E  \n",
       "2       709.00000            Nintendo      E  \n",
       "3       192.00000            Nintendo      E  \n",
       "6       431.00000            Nintendo      E  \n",
       "7       129.00000            Nintendo      E  \n",
       "...           ...                 ...    ...  \n",
       "16667    21.00000       Fluid Studios      E  \n",
       "16677     9.00000     Criterion Games      M  \n",
       "16696   412.00000  Kojima Productions      M  \n",
       "16700    43.00000        Atomic Games      T  \n",
       "16706    13.00000              SimBin   E10+  \n",
       "\n",
       "[6825 rows x 16 columns]"
      ]
     },
     "execution_count": 8,
     "metadata": {},
     "output_type": "execute_result"
    }
   ],
   "source": [
    "#Check final edit of dataset\n",
    "df"
   ]
  },
  {
   "cell_type": "markdown",
   "id": "8a45c8c7",
   "metadata": {},
   "source": [
    "The two variables that I am concentrating on are the **global sales** of the games (the dependant variable) and the games' **user scores** (the independent variable). "
   ]
  },
  {
   "cell_type": "markdown",
   "id": "3f8d2ec0",
   "metadata": {},
   "source": [
    "### Global Sales Statistics ###"
   ]
  },
  {
   "cell_type": "code",
   "execution_count": 9,
   "id": "9cb9100f",
   "metadata": {},
   "outputs": [
    {
     "name": "stdout",
     "output_type": "stream",
     "text": [
      "0.7775897435897436\n",
      "0.29\n",
      "0.02\n"
     ]
    }
   ],
   "source": [
    "#Firstly let's look at the global sales averages.\n",
    "\n",
    "#mean\n",
    "gs_mean=df[\"Global_Sales\"].mean()\n",
    "print(gs_mean)\n",
    "#median\n",
    "gs_median=df[\"Global_Sales\"].median()\n",
    "print(gs_median)\n",
    "#Mode\n",
    "gs_mode = Counter(df[\"Global_Sales\"]).most_common(1)[0][0]\n",
    "print(gs_mode)"
   ]
  },
  {
   "cell_type": "markdown",
   "id": "b58679e5",
   "metadata": {},
   "source": [
    "The mean of the global sales is approximately 777,590; which could tell us that the average game is able to sell 777,590 copies. Unfortunately, there are many games in the dataset that have very low global sales (that being under a million units sold) while only about 0.59% of the sales going above 10 million. The outliers make the data heavily skewed which makes our mean unrealiable.\n",
    "\n",
    "On the other hand, the median of global sales is 290,000 units and the mode is approximately 20,000 units. As the median and mode are not affected by outliers, they give us a more accurate picture of the game sales. We can either conclude that most games are able to sell 20,000 units worldwide or that the middle sales value for a game is 290,000 units globaly. \n",
    "\n",
    "All in all, according to the data in dataset, an average game is expected to sell under a million units globally."
   ]
  },
  {
   "cell_type": "code",
   "execution_count": 10,
   "id": "4c71dba6",
   "metadata": {},
   "outputs": [
    {
     "data": {
      "text/plain": [
       "0.5860805860805861"
      ]
     },
     "execution_count": 10,
     "metadata": {},
     "output_type": "execute_result"
    }
   ],
   "source": [
    "#Calculating the percentage of large global sales.\n",
    "sales=df[\"Global_Sales\"].to_numpy()\n",
    "o10=[]\n",
    "for num in sales:\n",
    "    if num > 10:\n",
    "        o10.append(num)\n",
    "#print(o10)\n",
    "\n",
    "#percentage\n",
    "(len(o10)/6825)*100"
   ]
  },
  {
   "cell_type": "code",
   "execution_count": 11,
   "id": "58f1dc8e",
   "metadata": {},
   "outputs": [
    {
     "name": "stdout",
     "output_type": "stream",
     "text": [
      "82.52\n",
      "1.9634427922327704\n"
     ]
    }
   ],
   "source": [
    "#Looking at the spread of the global sales.\n",
    "\n",
    "#range\n",
    "range_gs=df[\"Global_Sales\"].max() - df[\"Global_Sales\"].min()\n",
    "print(range_gs)\n",
    "\n",
    "#standard deviation\n",
    "std_gs=df['Global_Sales'].std()\n",
    "print(std_gs)"
   ]
  },
  {
   "cell_type": "markdown",
   "id": "4642b27f",
   "metadata": {},
   "source": [
    "Looking at the spread statistics, the global sales has a very large range (about 82,520,000) but the standard deviation is rather small (approx. 2). This means that the global sales data is not very spread out."
   ]
  },
  {
   "cell_type": "code",
   "execution_count": 12,
   "id": "5538bf7f",
   "metadata": {},
   "outputs": [
    {
     "data": {
      "text/plain": [
       "<AxesSubplot: ylabel='Density'>"
      ]
     },
     "execution_count": 12,
     "metadata": {},
     "output_type": "execute_result"
    },
    {
     "data": {
      "image/png": "[encoded data removed]",
      "text/plain": [
       "<Figure size 640x480 with 1 Axes>"
      ]
     },
     "metadata": {},
     "output_type": "display_data"
    }
   ],
   "source": [
    "#plot distribution of global sales\n",
    "df['Global_Sales'].plot(kind='kde')"
   ]
  },
  {
   "cell_type": "markdown",
   "id": "3ac92a12",
   "metadata": {},
   "source": [
    "The kernel density estimate of the global sales column shows that there is a very high peak at the beginning of the data, which quickly trails off and flatlines as we go through the column. We can conclude that the distribution of the global sales of video games is skewed to the right."
   ]
  },
  {
   "cell_type": "markdown",
   "id": "ef4a6ce6",
   "metadata": {},
   "source": [
    "### User Score Statistics ###"
   ]
  },
  {
   "cell_type": "code",
   "execution_count": 13,
   "id": "6ac24e0f",
   "metadata": {},
   "outputs": [
    {
     "name": "stdout",
     "output_type": "stream",
     "text": [
      "7.185626373626373\n",
      "7.5\n",
      "7.8\n"
     ]
    }
   ],
   "source": [
    "#Now, let's look at the user score averages.\n",
    "\n",
    "#mean\n",
    "us_mean=df[\"User_Score\"].mean()\n",
    "print(us_mean)\n",
    "#median\n",
    "us_median=df[\"User_Score\"].median()\n",
    "print(us_median)\n",
    "#Mode\n",
    "us_mode = Counter(df[\"User_Score\"]).most_common(1)[0][0]\n",
    "print(us_mode)"
   ]
  },
  {
   "cell_type": "markdown",
   "id": "ce459906",
   "metadata": {},
   "source": [
    "Looking at the user score statistics, we see that the mean, median and mode are all about the same. The mean user score is 7.2, whereas the median and mode are 7.5 and 7.8 respectively. Although the mean is a little lower that the median and mode, we can confidently conclude that the average game is expected to get a user score in the range of 7 to 8 (out of 10)."
   ]
  },
  {
   "cell_type": "code",
   "execution_count": 14,
   "id": "9775c8bc",
   "metadata": {},
   "outputs": [
    {
     "name": "stdout",
     "output_type": "stream",
     "text": [
      "9.1\n",
      "1.439941664429381\n"
     ]
    }
   ],
   "source": [
    "#Looking at the spread of the user scores.\n",
    "\n",
    "#range\n",
    "range_us=df[\"User_Score\"].max() - df[\"User_Score\"].min()\n",
    "print(range_us)\n",
    "\n",
    "#standard deviation\n",
    "std_us=df['User_Score'].std()\n",
    "print(std_us)"
   ]
  },
  {
   "cell_type": "markdown",
   "id": "79183d14",
   "metadata": {},
   "source": [
    "The user score range is very high however, just like the global sales, the standard deviation is relatively small (about 1.4). The user scores are, therefore, not spread out."
   ]
  },
  {
   "cell_type": "code",
   "execution_count": 15,
   "id": "a89d9f9f",
   "metadata": {},
   "outputs": [
    {
     "data": {
      "text/plain": [
       "<AxesSubplot: ylabel='Frequency'>"
      ]
     },
     "execution_count": 15,
     "metadata": {},
     "output_type": "execute_result"
    },
    {
     "data": {
      "image/png": "[encoded data removed]",
      "text/plain": [
       "<Figure size 640x480 with 1 Axes>"
      ]
     },
     "metadata": {},
     "output_type": "display_data"
    }
   ],
   "source": [
    "#plot distribution of user scores\n",
    "df['User_Score'].plot(kind='hist')"
   ]
  },
  {
   "cell_type": "markdown",
   "id": "70e12daa",
   "metadata": {},
   "source": [
    "The histogram of the user scores shows that most of the games' user scores are at the high end of the spectrum. It is safe to say that the user score distribution is skewed to the left. Although, the intensity of the skew is nowhere near as strong as that of the global sales."
   ]
  },
  {
   "cell_type": "markdown",
   "id": "791bc8b5",
   "metadata": {},
   "source": [
    "## QUESTION 2: CORRELATION ##"
   ]
  },
  {
   "cell_type": "markdown",
   "id": "00f78d91",
   "metadata": {},
   "source": [
    "To see how the global sales and user scores are related, we can use a scatterplot to see the correlation."
   ]
  },
  {
   "cell_type": "code",
   "execution_count": 16,
   "id": "655b4905",
   "metadata": {},
   "outputs": [],
   "source": [
    "#To build the scatterplot, first we can extract the columns into numpy arrays\n",
    "userscores=df[\"User_Score\"].to_numpy()\n",
    "#We already did this for global sales so we can just do the user scores here."
   ]
  },
  {
   "cell_type": "code",
   "execution_count": 17,
   "id": "509b8daa",
   "metadata": {},
   "outputs": [
    {
     "data": {
      "text/plain": [
       "Text(0.5, 0, 'User Scores')"
      ]
     },
     "execution_count": 17,
     "metadata": {},
     "output_type": "execute_result"
    },
    {
     "data": {
      "image/png": "[encoded data removed]",
      "text/plain": [
       "<Figure size 1200x500 with 1 Axes>"
      ]
     },
     "metadata": {},
     "output_type": "display_data"
    }
   ],
   "source": [
    "#Plot a scatterplot\n",
    "fig, ax = plt.subplots(figsize=(12,5))\n",
    "plt.title('Global Sales and User Scores')\n",
    "ax.scatter(userscores,sales)\n",
    "ax.set_ylabel('Global Sales (000000s)')\n",
    "ax.set_xlabel('User Scores')"
   ]
  },
  {
   "cell_type": "markdown",
   "id": "f11b007f",
   "metadata": {},
   "source": [
    "We can also numerically represent the correlation between the two variables by calculating the **Pearson's Coefficient**. It ranges between -1 and 1: 1 being a strong positive correlation, -1 being a strong negative correlation and 0 being no correlation between the variables. "
   ]
  },
  {
   "cell_type": "code",
   "execution_count": 18,
   "id": "471e03fd",
   "metadata": {},
   "outputs": [
    {
     "data": {
      "text/plain": [
       "0.08834852634696777"
      ]
     },
     "execution_count": 18,
     "metadata": {},
     "output_type": "execute_result"
    }
   ],
   "source": [
    "#Let's look at the Pearson's Coefficient\n",
    "\n",
    "pearsons_coeff, p = stats.pearsonr(userscores, sales)\n",
    "pearsons_coeff"
   ]
  },
  {
   "cell_type": "markdown",
   "id": "a3751814",
   "metadata": {},
   "source": [
    "Having created a scatterplot, the illustration is not as clear as I would have hoped. Most of the points are clustered together at the bottom - **however** we can still get some information. The clustering of points grow as the user score increases, with the outlier point being at the high tail-end of the user scores, so, we could say that there is some sort of positive correlation between the user score and the global sales of a game. The games with higher user scores seem to have higher global sales.\n",
    "\n",
    "As the scatterplot was not very clear, I decided to also calculate the Pearson's correlation coefficient, in which the result was approximately 0.088. This tells us that although the correlation is positive, it is a very weak correlation (since it's still quite close to 0). This seems quite accurate in a sense; although it is normal for highly rated games to have large sales, there are cases where a game sells well but has bad customer ratings or it has very high user ratings but did not do well internationally.\n",
    "\n",
    "All in all, both global sales and user scores are indications of how well a game performs but they are not strongly related with each other."
   ]
  },
  {
   "cell_type": "markdown",
   "id": "7693b17e",
   "metadata": {},
   "source": [
    "## QUESTION 3 : LINEAR REGRESSION ##"
   ]
  },
  {
   "cell_type": "code",
   "execution_count": 19,
   "id": "a336280b",
   "metadata": {},
   "outputs": [
    {
     "data": {
      "text/plain": [
       "[<matplotlib.lines.Line2D at 0x187da3cac40>]"
      ]
     },
     "execution_count": 19,
     "metadata": {},
     "output_type": "execute_result"
    },
    {
     "data": {
      "image/png": "[encoded data removed]",
      "text/plain": [
       "<Figure size 640x480 with 1 Axes>"
      ]
     },
     "metadata": {},
     "output_type": "display_data"
    }
   ],
   "source": [
    "#Fit a data into a simple linear regression\n",
    "\n",
    "x = userscores\n",
    "y = sales\n",
    "\n",
    "slope, intercept, r, p, std_err = stats.linregress(x, y)\n",
    "slope = np.float32(slope)\n",
    "model_y = [slope * i + intercept for i in x]\n",
    "\n",
    "plt.scatter(userscores,sales)\n",
    "plt.ylabel('Global Sales (000000s)')\n",
    "plt.xlabel('User Scores')\n",
    "\n",
    "plt.plot(x, model_y, 'r')"
   ]
  },
  {
   "cell_type": "code",
   "execution_count": 20,
   "id": "5077c91a",
   "metadata": {},
   "outputs": [
    {
     "name": "stdout",
     "output_type": "stream",
     "text": [
      "The intercept of the model is -0.08805021477412112\n",
      "The slope of the model is 0.12046827\n",
      "R^2 (coefficient of determination) is 0.08834852634696726\n",
      "The p-value is 2.63685512322317e-13\n"
     ]
    }
   ],
   "source": [
    "# Interpretation of the model\n",
    "\n",
    "print(\"The intercept of the model is\", intercept)\n",
    "\n",
    "print(\"The slope of the model is\", slope)\n",
    "\n",
    "print(\"R^2 (coefficient of determination) is\", r)\n",
    "\n",
    "print(\"The p-value is\", p)"
   ]
  },
  {
   "cell_type": "markdown",
   "id": "0578d163",
   "metadata": {},
   "source": [
    "From the regression we get the following formula for our model:\n",
    "```Global_Sales = 0.120*User_Scores - 0.088 (+ error) ```\n",
    "\n",
    "Looking at the model against the scatterplot, it's obvious that the line goes in the same direction as the data. However, almost all the points are beyond the line (both above and below). In addition, the slope is very small, which does not really allow us to predict how many copies a game with a certain user score can sell. At best, we can look at the model formula and say: starting at -0.088, for every 1 point increase in a game's user score, we can expect an addition 120,000 copies sold worldwide.\n",
    "\n",
    "In regards to the fit of the model, the R-squared is approxiamtely 0.088 (quite close to 0) which means that the model cannot really explain the variation in global sales (maybe, at best, 10% of the variation). In general, the model is not a good fit for the data.\n",
    "\n",
    "Testing to see the relationship between the two variables, we can use the p-value. Our hypothesis test is as follows:\n",
    "\n",
    "```H0: m(the slope) = 0 (i.e there is no relationship between variables)```\n",
    "\n",
    "```H1: m(the slope) =/= 0 (i.e there is a relationship between variables)```\n",
    "\n",
    "Our p-value is 2.63e-13. Our p-value is well below 0.05 which means that we reject the null hypothesis. As such, we can still conclude that there is a realtionship between a game's user score and its global sales."
   ]
  },
  {
   "cell_type": "markdown",
   "id": "e6fa2079",
   "metadata": {},
   "source": [
    "## QUESTION 4 : NEW VARIABLE AND MULTIPLE REGRESSION ##"
   ]
  },
  {
   "cell_type": "markdown",
   "id": "db65123b",
   "metadata": {},
   "source": [
    "From the linear regression, it is clear that using user scores is not enough to explain the variation in global game sales. We could try doing a multiple regression model with some additional variables to see if we get better results.\n",
    "\n",
    "For this regression, I will still use the **user scores** variable but I will also add the following variables to my regression: **NA game sales** (since the US is the biggest market in the industry it makes sense to add this), **critic scores** of the games and the **ratings** of the games.\n",
    "\n",
    "For the ratings, we will need to convert the variables into dummy variables so that we can include them in the model."
   ]
  },
  {
   "cell_type": "code",
   "execution_count": 21,
   "id": "f154ea97",
   "metadata": {},
   "outputs": [
    {
     "data": {
      "text/plain": [
       "array(['E', 'M', 'T', 'E10+', 'AO', 'K-A', 'RP'], dtype=object)"
      ]
     },
     "execution_count": 21,
     "metadata": {},
     "output_type": "execute_result"
    }
   ],
   "source": [
    "#Let us check how many types of ratings there are in this dataset.\n",
    "\n",
    "df[\"Rating\"].unique()\n",
    "\n",
    "#AO --> Adults only(18+)\n",
    "#E --> Everyone\n",
    "#E10+ --> Everyone ages 10 and over\n",
    "#K-A --> Was used in place of E until 1998, may be excluded from dataframe\n",
    "#M --> Mature (17+)\n",
    "#RP --> Rating pending\n",
    "#T --> Teen"
   ]
  },
  {
   "cell_type": "code",
   "execution_count": 41,
   "id": "bebf4fdb",
   "metadata": {
    "scrolled": true
   },
   "outputs": [
    {
     "data": {
      "text/html": [
       "<div>\n",
       "<style scoped>\n",
       "    .dataframe tbody tr th:only-of-type {\n",
       "        vertical-align: middle;\n",
       "    }\n",
       "\n",
       "    .dataframe tbody tr th {\n",
       "        vertical-align: top;\n",
       "    }\n",
       "\n",
       "    .dataframe thead th {\n",
       "        text-align: right;\n",
       "    }\n",
       "</style>\n",
       "<table border=\"1\" class=\"dataframe\">\n",
       "  <thead>\n",
       "    <tr style=\"text-align: right;\">\n",
       "      <th></th>\n",
       "      <th>Name</th>\n",
       "      <th>Platform</th>\n",
       "      <th>Year_of_Release</th>\n",
       "      <th>Genre</th>\n",
       "      <th>Publisher</th>\n",
       "      <th>NA_Sales</th>\n",
       "      <th>EU_Sales</th>\n",
       "      <th>JP_Sales</th>\n",
       "      <th>Other_Sales</th>\n",
       "      <th>Global_Sales</th>\n",
       "      <th>Critic_Score</th>\n",
       "      <th>Critic_Count</th>\n",
       "      <th>User_Score</th>\n",
       "      <th>User_Count</th>\n",
       "      <th>Developer</th>\n",
       "      <th>AO</th>\n",
       "      <th>E</th>\n",
       "      <th>E10+</th>\n",
       "      <th>M</th>\n",
       "      <th>RP</th>\n",
       "      <th>T</th>\n",
       "    </tr>\n",
       "  </thead>\n",
       "  <tbody>\n",
       "    <tr>\n",
       "      <th>0</th>\n",
       "      <td>Wii Sports</td>\n",
       "      <td>Wii</td>\n",
       "      <td>2006</td>\n",
       "      <td>Sports</td>\n",
       "      <td>Nintendo</td>\n",
       "      <td>41.36000</td>\n",
       "      <td>28.96000</td>\n",
       "      <td>3.77000</td>\n",
       "      <td>8.45000</td>\n",
       "      <td>82.53000</td>\n",
       "      <td>7.60000</td>\n",
       "      <td>51.00000</td>\n",
       "      <td>8.00000</td>\n",
       "      <td>322.00000</td>\n",
       "      <td>Nintendo</td>\n",
       "      <td>0</td>\n",
       "      <td>1</td>\n",
       "      <td>0</td>\n",
       "      <td>0</td>\n",
       "      <td>0</td>\n",
       "      <td>0</td>\n",
       "    </tr>\n",
       "    <tr>\n",
       "      <th>2</th>\n",
       "      <td>Mario Kart Wii</td>\n",
       "      <td>Wii</td>\n",
       "      <td>2008</td>\n",
       "      <td>Racing</td>\n",
       "      <td>Nintendo</td>\n",
       "      <td>15.68000</td>\n",
       "      <td>12.76000</td>\n",
       "      <td>3.79000</td>\n",
       "      <td>3.29000</td>\n",
       "      <td>35.52000</td>\n",
       "      <td>8.20000</td>\n",
       "      <td>73.00000</td>\n",
       "      <td>8.30000</td>\n",
       "      <td>709.00000</td>\n",
       "      <td>Nintendo</td>\n",
       "      <td>0</td>\n",
       "      <td>1</td>\n",
       "      <td>0</td>\n",
       "      <td>0</td>\n",
       "      <td>0</td>\n",
       "      <td>0</td>\n",
       "    </tr>\n",
       "    <tr>\n",
       "      <th>3</th>\n",
       "      <td>Wii Sports Resort</td>\n",
       "      <td>Wii</td>\n",
       "      <td>2009</td>\n",
       "      <td>Sports</td>\n",
       "      <td>Nintendo</td>\n",
       "      <td>15.61000</td>\n",
       "      <td>10.93000</td>\n",
       "      <td>3.28000</td>\n",
       "      <td>2.95000</td>\n",
       "      <td>32.77000</td>\n",
       "      <td>8.00000</td>\n",
       "      <td>73.00000</td>\n",
       "      <td>8.00000</td>\n",
       "      <td>192.00000</td>\n",
       "      <td>Nintendo</td>\n",
       "      <td>0</td>\n",
       "      <td>1</td>\n",
       "      <td>0</td>\n",
       "      <td>0</td>\n",
       "      <td>0</td>\n",
       "      <td>0</td>\n",
       "    </tr>\n",
       "    <tr>\n",
       "      <th>6</th>\n",
       "      <td>New Super Mario Bros.</td>\n",
       "      <td>DS</td>\n",
       "      <td>2006</td>\n",
       "      <td>Platform</td>\n",
       "      <td>Nintendo</td>\n",
       "      <td>11.28000</td>\n",
       "      <td>9.14000</td>\n",
       "      <td>6.50000</td>\n",
       "      <td>2.88000</td>\n",
       "      <td>29.80000</td>\n",
       "      <td>8.90000</td>\n",
       "      <td>65.00000</td>\n",
       "      <td>8.50000</td>\n",
       "      <td>431.00000</td>\n",
       "      <td>Nintendo</td>\n",
       "      <td>0</td>\n",
       "      <td>1</td>\n",
       "      <td>0</td>\n",
       "      <td>0</td>\n",
       "      <td>0</td>\n",
       "      <td>0</td>\n",
       "    </tr>\n",
       "    <tr>\n",
       "      <th>7</th>\n",
       "      <td>Wii Play</td>\n",
       "      <td>Wii</td>\n",
       "      <td>2006</td>\n",
       "      <td>Misc</td>\n",
       "      <td>Nintendo</td>\n",
       "      <td>13.96000</td>\n",
       "      <td>9.18000</td>\n",
       "      <td>2.93000</td>\n",
       "      <td>2.84000</td>\n",
       "      <td>28.92000</td>\n",
       "      <td>5.80000</td>\n",
       "      <td>41.00000</td>\n",
       "      <td>6.60000</td>\n",
       "      <td>129.00000</td>\n",
       "      <td>Nintendo</td>\n",
       "      <td>0</td>\n",
       "      <td>1</td>\n",
       "      <td>0</td>\n",
       "      <td>0</td>\n",
       "      <td>0</td>\n",
       "      <td>0</td>\n",
       "    </tr>\n",
       "    <tr>\n",
       "      <th>...</th>\n",
       "      <td>...</td>\n",
       "      <td>...</td>\n",
       "      <td>...</td>\n",
       "      <td>...</td>\n",
       "      <td>...</td>\n",
       "      <td>...</td>\n",
       "      <td>...</td>\n",
       "      <td>...</td>\n",
       "      <td>...</td>\n",
       "      <td>...</td>\n",
       "      <td>...</td>\n",
       "      <td>...</td>\n",
       "      <td>...</td>\n",
       "      <td>...</td>\n",
       "      <td>...</td>\n",
       "      <td>...</td>\n",
       "      <td>...</td>\n",
       "      <td>...</td>\n",
       "      <td>...</td>\n",
       "      <td>...</td>\n",
       "      <td>...</td>\n",
       "    </tr>\n",
       "    <tr>\n",
       "      <th>16667</th>\n",
       "      <td>E.T. The Extra-Terrestrial</td>\n",
       "      <td>GBA</td>\n",
       "      <td>2001</td>\n",
       "      <td>Action</td>\n",
       "      <td>NewKidCo</td>\n",
       "      <td>0.01000</td>\n",
       "      <td>0.00000</td>\n",
       "      <td>0.00000</td>\n",
       "      <td>0.00000</td>\n",
       "      <td>0.01000</td>\n",
       "      <td>4.60000</td>\n",
       "      <td>4.00000</td>\n",
       "      <td>2.40000</td>\n",
       "      <td>21.00000</td>\n",
       "      <td>Fluid Studios</td>\n",
       "      <td>0</td>\n",
       "      <td>1</td>\n",
       "      <td>0</td>\n",
       "      <td>0</td>\n",
       "      <td>0</td>\n",
       "      <td>0</td>\n",
       "    </tr>\n",
       "    <tr>\n",
       "      <th>16677</th>\n",
       "      <td>Mortal Kombat: Deadly Alliance</td>\n",
       "      <td>GBA</td>\n",
       "      <td>2002</td>\n",
       "      <td>Fighting</td>\n",
       "      <td>Midway Games</td>\n",
       "      <td>0.01000</td>\n",
       "      <td>0.00000</td>\n",
       "      <td>0.00000</td>\n",
       "      <td>0.00000</td>\n",
       "      <td>0.01000</td>\n",
       "      <td>8.10000</td>\n",
       "      <td>12.00000</td>\n",
       "      <td>8.80000</td>\n",
       "      <td>9.00000</td>\n",
       "      <td>Criterion Games</td>\n",
       "      <td>0</td>\n",
       "      <td>0</td>\n",
       "      <td>0</td>\n",
       "      <td>1</td>\n",
       "      <td>0</td>\n",
       "      <td>0</td>\n",
       "    </tr>\n",
       "    <tr>\n",
       "      <th>16696</th>\n",
       "      <td>Metal Gear Solid V: Ground Zeroes</td>\n",
       "      <td>PC</td>\n",
       "      <td>2014</td>\n",
       "      <td>Action</td>\n",
       "      <td>Konami Digital Entertainment</td>\n",
       "      <td>0.00000</td>\n",
       "      <td>0.01000</td>\n",
       "      <td>0.00000</td>\n",
       "      <td>0.00000</td>\n",
       "      <td>0.01000</td>\n",
       "      <td>8.00000</td>\n",
       "      <td>20.00000</td>\n",
       "      <td>7.60000</td>\n",
       "      <td>412.00000</td>\n",
       "      <td>Kojima Productions</td>\n",
       "      <td>0</td>\n",
       "      <td>0</td>\n",
       "      <td>0</td>\n",
       "      <td>1</td>\n",
       "      <td>0</td>\n",
       "      <td>0</td>\n",
       "    </tr>\n",
       "    <tr>\n",
       "      <th>16700</th>\n",
       "      <td>Breach</td>\n",
       "      <td>PC</td>\n",
       "      <td>2011</td>\n",
       "      <td>Shooter</td>\n",
       "      <td>Destineer</td>\n",
       "      <td>0.01000</td>\n",
       "      <td>0.00000</td>\n",
       "      <td>0.00000</td>\n",
       "      <td>0.00000</td>\n",
       "      <td>0.01000</td>\n",
       "      <td>6.10000</td>\n",
       "      <td>12.00000</td>\n",
       "      <td>5.80000</td>\n",
       "      <td>43.00000</td>\n",
       "      <td>Atomic Games</td>\n",
       "      <td>0</td>\n",
       "      <td>0</td>\n",
       "      <td>0</td>\n",
       "      <td>0</td>\n",
       "      <td>0</td>\n",
       "      <td>1</td>\n",
       "    </tr>\n",
       "    <tr>\n",
       "      <th>16706</th>\n",
       "      <td>STORM: Frontline Nation</td>\n",
       "      <td>PC</td>\n",
       "      <td>2011</td>\n",
       "      <td>Strategy</td>\n",
       "      <td>Unknown</td>\n",
       "      <td>0.00000</td>\n",
       "      <td>0.01000</td>\n",
       "      <td>0.00000</td>\n",
       "      <td>0.00000</td>\n",
       "      <td>0.01000</td>\n",
       "      <td>6.00000</td>\n",
       "      <td>12.00000</td>\n",
       "      <td>7.20000</td>\n",
       "      <td>13.00000</td>\n",
       "      <td>SimBin</td>\n",
       "      <td>0</td>\n",
       "      <td>0</td>\n",
       "      <td>1</td>\n",
       "      <td>0</td>\n",
       "      <td>0</td>\n",
       "      <td>0</td>\n",
       "    </tr>\n",
       "  </tbody>\n",
       "</table>\n",
       "<p>6825 rows × 21 columns</p>\n",
       "</div>"
      ],
      "text/plain": [
       "                                    Name Platform  Year_of_Release     Genre  \\\n",
       "0                             Wii Sports      Wii             2006    Sports   \n",
       "2                         Mario Kart Wii      Wii             2008    Racing   \n",
       "3                      Wii Sports Resort      Wii             2009    Sports   \n",
       "6                  New Super Mario Bros.       DS             2006  Platform   \n",
       "7                               Wii Play      Wii             2006      Misc   \n",
       "...                                  ...      ...              ...       ...   \n",
       "16667         E.T. The Extra-Terrestrial      GBA             2001    Action   \n",
       "16677     Mortal Kombat: Deadly Alliance      GBA             2002  Fighting   \n",
       "16696  Metal Gear Solid V: Ground Zeroes       PC             2014    Action   \n",
       "16700                             Breach       PC             2011   Shooter   \n",
       "16706            STORM: Frontline Nation       PC             2011  Strategy   \n",
       "\n",
       "                          Publisher  NA_Sales  EU_Sales  JP_Sales  \\\n",
       "0                          Nintendo  41.36000  28.96000   3.77000   \n",
       "2                          Nintendo  15.68000  12.76000   3.79000   \n",
       "3                          Nintendo  15.61000  10.93000   3.28000   \n",
       "6                          Nintendo  11.28000   9.14000   6.50000   \n",
       "7                          Nintendo  13.96000   9.18000   2.93000   \n",
       "...                             ...       ...       ...       ...   \n",
       "16667                      NewKidCo   0.01000   0.00000   0.00000   \n",
       "16677                  Midway Games   0.01000   0.00000   0.00000   \n",
       "16696  Konami Digital Entertainment   0.00000   0.01000   0.00000   \n",
       "16700                     Destineer   0.01000   0.00000   0.00000   \n",
       "16706                       Unknown   0.00000   0.01000   0.00000   \n",
       "\n",
       "       Other_Sales  Global_Sales  Critic_Score  Critic_Count  User_Score  \\\n",
       "0          8.45000      82.53000       7.60000      51.00000     8.00000   \n",
       "2          3.29000      35.52000       8.20000      73.00000     8.30000   \n",
       "3          2.95000      32.77000       8.00000      73.00000     8.00000   \n",
       "6          2.88000      29.80000       8.90000      65.00000     8.50000   \n",
       "7          2.84000      28.92000       5.80000      41.00000     6.60000   \n",
       "...            ...           ...           ...           ...         ...   \n",
       "16667      0.00000       0.01000       4.60000       4.00000     2.40000   \n",
       "16677      0.00000       0.01000       8.10000      12.00000     8.80000   \n",
       "16696      0.00000       0.01000       8.00000      20.00000     7.60000   \n",
       "16700      0.00000       0.01000       6.10000      12.00000     5.80000   \n",
       "16706      0.00000       0.01000       6.00000      12.00000     7.20000   \n",
       "\n",
       "       User_Count           Developer  AO  E  E10+  M  RP  T  \n",
       "0       322.00000            Nintendo   0  1     0  0   0  0  \n",
       "2       709.00000            Nintendo   0  1     0  0   0  0  \n",
       "3       192.00000            Nintendo   0  1     0  0   0  0  \n",
       "6       431.00000            Nintendo   0  1     0  0   0  0  \n",
       "7       129.00000            Nintendo   0  1     0  0   0  0  \n",
       "...           ...                 ...  .. ..   ... ..  .. ..  \n",
       "16667    21.00000       Fluid Studios   0  1     0  0   0  0  \n",
       "16677     9.00000     Criterion Games   0  0     0  1   0  0  \n",
       "16696   412.00000  Kojima Productions   0  0     0  1   0  0  \n",
       "16700    43.00000        Atomic Games   0  0     0  0   0  1  \n",
       "16706    13.00000              SimBin   0  0     1  0   0  0  \n",
       "\n",
       "[6825 rows x 21 columns]"
      ]
     },
     "execution_count": 41,
     "metadata": {},
     "output_type": "execute_result"
    }
   ],
   "source": [
    "#Now that we know how many ratings there are, we can convert them into dummy variables\n",
    "\n",
    "#Get the dummies and store it in a variable\n",
    "dummy = pd.get_dummies(df[\"Rating\"])\n",
    " \n",
    "#Concatenate the dummies to original dataframe\n",
    "merged_df = pd.concat([df, dummy], axis='columns')\n",
    "\n",
    "#Format the critic scores so that they are in the same scale as the user scores\n",
    "merged_df['Critic_Score']=merged_df['Critic_Score']/10\n",
    "\n",
    "#Drop the ratings column from the new dataframe to avoid any confusion\n",
    "merged_df.drop(['Rating','K-A'], axis=1)"
   ]
  },
  {
   "cell_type": "markdown",
   "id": "268146f9",
   "metadata": {},
   "source": [
    "Now that we have gotten our new dataframe, we can now create and fit the model."
   ]
  },
  {
   "cell_type": "code",
   "execution_count": 46,
   "id": "c8b5be36",
   "metadata": {},
   "outputs": [
    {
     "name": "stdout",
     "output_type": "stream",
     "text": [
      "[ 1.93218728  0.02380032 -0.00464067 -1.89899851 -1.34190069 -1.37638169\n",
      " -1.35304974 -1.32139479 -1.34970254] 1.23300934701897 0.9138744637817349\n",
      "0.9137607249958266\n"
     ]
    }
   ],
   "source": [
    "#Seperate the independent and dependent variables from the new dataframe\n",
    "x = merged_df[['NA_Sales', 'Critic_Score','User_Score',\n",
    "               'AO','E','E10+','M','RP','T']]\n",
    "y = merged_df['Global_Sales']\n",
    "\n",
    "#Fit the regression model\n",
    "regress = linear_model.LinearRegression()\n",
    "regress.fit(x, y) \n",
    "print(regress.coef_, regress.intercept_,regress.score(x, y))\n",
    "\n",
    "#Also display the adjusted R-squared\n",
    "#Code adapted from https://www.statology.org/adjusted-r-squared-in-python/\n",
    "adjusted_R2= 1 - (1-regress.score(x, y))*(len(y)-1)/(len(y)-x.shape[1]-1)\n",
    "print(adjusted_R2)"
   ]
  },
  {
   "cell_type": "markdown",
   "id": "dc7e3e10",
   "metadata": {},
   "source": [
    "The formula for our model is as follows:\n",
    "\n",
    "```Global_Sales = 1.932*NA_Sales + 0.024*Critic_Score - 0.005*User_Score - 1.899*AO - 1.342*E -1.376*E10+ -1.353*M - 1.321*RP - 1.350*T + 1.233```\n",
    "\n",
    "As this is a multiple linear regression, we can get quite a lot of information from the variables, for example:\n",
    " - the intercept is 1.233, so the average global sales expected for a game is about 1,233,000 units\n",
    " - for every 1 unit sold in North America, the game will sell 1,932,000 additional copies globally\n",
    " - a 1 point increase of the critic score means that the game sells 24,000 more copies globally, **on the other hand**, a similar change in the user score will cause the the game to sell 5000 [less] copies globally.\n",
    " \n",
    "Looking at the dummy variables, it seems that different ratings have varying results on the global sales. For instance, AO has the smallest coeffient out of all the dummy variables, so we can say that, on average, a game rated 18+ is going to sell 1,899,000 less copies globally than if it was rated otherwise. The rating (RP games cannot be sold until a rating is confirmed) that has the lowest impact on reducing global sales is E (for everyone), which does coincide with reality: games with a wider audience tend to sell better. \n",
    "\n",
    "Both the R-squared and adjusted R-squared are approximately 0.9, so we can conclude that the model can explain about 90% of the variation in global sales. This means that the model fits the data very well."
   ]
  },
  {
   "cell_type": "code",
   "execution_count": 47,
   "id": "d9e0cad6",
   "metadata": {},
   "outputs": [
    {
     "name": "stdout",
     "output_type": "stream",
     "text": [
      "[48.35632733] [2.01153864] [1.8551132] [38.56666518] [19.38580939]\n"
     ]
    },
    {
     "name": "stderr",
     "output_type": "stream",
     "text": [
      "C:\\Users\\tcelu\\miniconda3\\envs\\introds\\lib\\site-packages\\sklearn\\base.py:420: UserWarning: X does not have valid feature names, but LinearRegression was fitted with feature names\n",
      "  warnings.warn(\n",
      "C:\\Users\\tcelu\\miniconda3\\envs\\introds\\lib\\site-packages\\sklearn\\base.py:420: UserWarning: X does not have valid feature names, but LinearRegression was fitted with feature names\n",
      "  warnings.warn(\n",
      "C:\\Users\\tcelu\\miniconda3\\envs\\introds\\lib\\site-packages\\sklearn\\base.py:420: UserWarning: X does not have valid feature names, but LinearRegression was fitted with feature names\n",
      "  warnings.warn(\n",
      "C:\\Users\\tcelu\\miniconda3\\envs\\introds\\lib\\site-packages\\sklearn\\base.py:420: UserWarning: X does not have valid feature names, but LinearRegression was fitted with feature names\n",
      "  warnings.warn(\n",
      "C:\\Users\\tcelu\\miniconda3\\envs\\introds\\lib\\site-packages\\sklearn\\base.py:420: UserWarning: X does not have valid feature names, but LinearRegression was fitted with feature names\n",
      "  warnings.warn(\n"
     ]
    }
   ],
   "source": [
    "#Testing the predictions\n",
    "\n",
    "#Game that is well received by both parties and sells well in NA and is rated E\n",
    "g1=regress.predict([[25,8.5,9,0,1,0,0,0,0]])\n",
    "\n",
    "#Game that is well received by critics but panned by users,\n",
    "#doesn't sells well in NA and is rated T\n",
    "g2=regress.predict([[1,8.9,3.4,0,0,0,0,0,1]])\n",
    "\n",
    "#Game that is well received by users but panned by critics,\n",
    "#doesn't sells well in NA and is rated T\n",
    "g3=regress.predict([[1,3.4,8.9,0,0,0,0,0,1]])\n",
    "\n",
    "#Game that is panned by critics and users,sells well in NA and is rated M\n",
    "g4=regress.predict([[20,2,1,0,0,0,1,0,0]])\n",
    "\n",
    "#Upcoming game that is well received by critics\n",
    "#and projected to do well in NA and is unrated currently\n",
    "g5=regress.predict([[10,6.4,0,0,0,0,0,1,0]])\n",
    "\n",
    "print(g1,g2,g3,g4,g5)"
   ]
  },
  {
   "cell_type": "markdown",
   "id": "dbe5443e",
   "metadata": {},
   "source": [
    "## QUESTION 5: ETHICS ##"
   ]
  },
  {
   "cell_type": "markdown",
   "id": "9c4568b7",
   "metadata": {},
   "source": [
    "In regards to the gaming industry, using models such as this one to predict unit sales may lead to a number of issues. For example, although North America accounts for the majority of the market, there are other markets that are also very influential such Europe and Asia (particularly Japan) while other markets (e.g. Africa) are not explicitly considered. This makes it easy for gaming companies to cater exclusively to North American gamers (which may push a western attitude onto markets that very much don't want it). In addition, seeing how the critic score carries more weight than the user score, this could also cause gaming companies to disregard the views of the consumer and cater to the ideologies and interest of the critics - which will end up being counterproductive as gamers and critics tend to be very split. Finally, models like this could also cause a saturation in the market, if a particular rating gets a game more sales, then companies will try to make more of these sort of games: this excludes certain audiences and limits freedom of expression and creativity (since certain ratings prevent certain themes and imagery from being included).\n",
    "\n",
    "There is a suprising lack of monetary consideration included in the model, I believe that taking into consideration the cost of making the game as well as the total cost of advertising could improve the performance of the model (or at least give us some interesting insights). Another variable that should be included could be the number of years it takes for the game to be developed or, whether or not it had to be delayed."
   ]
  }
 ],
 "metadata": {
  "kernelspec": {
   "display_name": "Python 3 (ipykernel)",
   "language": "python",
   "name": "python3"
  },
  "language_info": {
   "codemirror_mode": {
    "name": "ipython",
    "version": 3
   },
   "file_extension": ".py",
   "mimetype": "text/x-python",
   "name": "python",
   "nbconvert_exporter": "python",
   "pygments_lexer": "ipython3",
   "version": "3.9.15"
  }
 },
 "nbformat": 4,
 "nbformat_minor": 5
}
